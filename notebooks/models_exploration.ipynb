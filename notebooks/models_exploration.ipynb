{
 "cells": [
  {
   "cell_type": "code",
   "execution_count": 75,
   "metadata": {},
   "outputs": [],
   "source": [
    "import pandas as pd\n",
    "import numpy as np\n",
    "from pprint import pprint\n",
    "from sklearn.metrics import classification_report, confusion_matrix, accuracy_score\n",
    "from sklearn.linear_model import LogisticRegression\n",
    "from sklearn.tree import DecisionTreeClassifier\n",
    "from sklearn.model_selection import cross_val_score,train_test_split\n",
    "from sklearn.svm import LinearSVC, SVC\n",
    "from sklearn.naive_bayes import MultinomialNB\n",
    "from sklearn.ensemble import AdaBoostClassifier, StackingClassifier, RandomForestClassifier\n",
    "from sklearn.preprocessing import StandardScaler\n",
    "from sklearn.discriminant_analysis import LinearDiscriminantAnalysis\n",
    "from imblearn.under_sampling import RandomUnderSampler"
   ]
  },
  {
   "cell_type": "code",
   "execution_count": 70,
   "metadata": {},
   "outputs": [],
   "source": [
    "\n",
    "hsptl_train_df = pd.read_parquet(\"../data/processed/hsptl_train.parquet\")\n",
    "X = hsptl_train_df.drop(['StayLength'], axis=1)\n",
    "y = hsptl_train_df['StayLength']\n",
    "rus = RandomUnderSampler(random_state=42)\n",
    "X, y = rus.fit_resample(X, y)"
   ]
  },
  {
   "cell_type": "code",
   "execution_count": 71,
   "metadata": {},
   "outputs": [],
   "source": [
    "\n",
    "X_train, X_test, y_train, y_test = train_test_split(X, y, test_size=0.2, random_state=42)\n"
   ]
  },
  {
   "cell_type": "code",
   "execution_count": 56,
   "metadata": {},
   "outputs": [],
   "source": [
    "\n",
    "logreg = LogisticRegression(random_state=42).fit(X_train, y_train)\n",
    "y_pred = logreg.predict(X_test)\n"
   ]
  },
  {
   "cell_type": "code",
   "execution_count": 57,
   "metadata": {},
   "outputs": [
    {
     "name": "stdout",
     "output_type": "stream",
     "text": [
      "0.5839182326875182\n"
     ]
    },
    {
     "data": {
      "text/plain": [
       "array([[21643,  9159],\n",
       "       [16569, 14463]], dtype=int64)"
      ]
     },
     "execution_count": 57,
     "metadata": {},
     "output_type": "execute_result"
    }
   ],
   "source": [
    "pprint(logreg.score(X_test,y_test))\n",
    "confusion_matrix(y_test,y_pred)"
   ]
  },
  {
   "cell_type": "code",
   "execution_count": 58,
   "metadata": {},
   "outputs": [
    {
     "name": "stdout",
     "output_type": "stream",
     "text": [
      "[(3, 0.6289755375327061),\n",
      " (4, 0.6550640610617482),\n",
      " (5, 0.6550640610617482),\n",
      " (6, 0.6619812535026889),\n",
      " (7, 0.6665511350111605),\n",
      " (8, 0.6696978427515916),\n",
      " (9, 0.6792026527615818),\n",
      " (10, 0.6824648593762358),\n",
      " (11, 0.6861845446952118),\n",
      " (12, 0.6886196609931314),\n",
      " (13, 0.6928337341510835),\n",
      " (14, 0.6940951895275248),\n",
      " (15, 0.6941876052467146),\n",
      " (16, 0.6937532661928286),\n",
      " (17, 0.6911564309054749),\n",
      " (18, 0.6895622758909917),\n",
      " (19, 0.6868221917252394)]\n"
     ]
    }
   ],
   "source": [
    "\n",
    "X_train, X_test, y_train, y_test = train_test_split(X, y, test_size=0.3, random_state=42)\n",
    "depth = []\n",
    "for i in range(3,20):\n",
    "    dtc = DecisionTreeClassifier(max_depth=i)\n",
    "    # Perform 7-fold cross validation \n",
    "    scores = cross_val_score(estimator=dtc, X=X_train, y=y_train, cv=7, n_jobs=4)\n",
    "    depth.append((i,scores.mean()))\n",
    "pprint(depth)\n"
   ]
  },
  {
   "cell_type": "code",
   "execution_count": 60,
   "metadata": {},
   "outputs": [
    {
     "data": {
      "text/plain": [
       "array([[37825,  8441],\n",
       "       [19777, 26708]], dtype=int64)"
      ]
     },
     "execution_count": 60,
     "metadata": {},
     "output_type": "execute_result"
    }
   ],
   "source": [
    "dtc = DecisionTreeClassifier(max_depth=15)\n",
    "dtc.fit(X_train,y_train)\n",
    "y_pred = dtc.predict(X_test)\n",
    "confusion_matrix(y_test,y_pred)"
   ]
  },
  {
   "cell_type": "code",
   "execution_count": 80,
   "metadata": {},
   "outputs": [],
   "source": [
    "\n",
    "depth = []\n",
    "for i in range(10,15):\n",
    "    rfc = RandomForestClassifier(max_depth=i)\n",
    "    # Perform 7-fold cross validation \n",
    "    scores = cross_val_score(estimator=rfc, X=X_train, y=y_train, cv=7, n_jobs=4)\n",
    "    depth.append((i,scores.mean()))\n"
   ]
  },
  {
   "cell_type": "code",
   "execution_count": 79,
   "metadata": {},
   "outputs": [
    {
     "name": "stdout",
     "output_type": "stream",
     "text": [
      "[(2, 0.6126897201572153),\n",
      " (3, 0.6142584411055829),\n",
      " (4, 0.6320036914014777),\n",
      " (5, 0.6462313951628952),\n",
      " (6, 0.6553486412231487),\n",
      " (7, 0.6582879900133174),\n",
      " (8, 0.6625777275924606),\n",
      " (9, 0.6689820094811921)]\n"
     ]
    }
   ],
   "source": [
    "pprint(depth)\n"
   ]
  },
  {
   "cell_type": "code",
   "execution_count": 61,
   "metadata": {},
   "outputs": [
    {
     "name": "stderr",
     "output_type": "stream",
     "text": [
      "c:\\Users\\pukeboy71\\Documents\\ProyectoIndividual2\\venv\\Lib\\site-packages\\sklearn\\ensemble\\_base.py:166: FutureWarning: `base_estimator` was renamed to `estimator` in version 1.2 and will be removed in 1.4.\n",
      "  warnings.warn(\n"
     ]
    },
    {
     "name": "stdout",
     "output_type": "stream",
     "text": [
      "'Accuracy: 0.5506247911073735'\n"
     ]
    }
   ],
   "source": [
    "\n",
    "abc = AdaBoostClassifier(n_estimators=100, base_estimator=logreg, learning_rate=1)\n",
    "model = abc.fit(X_train, y_train)\n",
    "y_pred = model.predict(X_test)\n",
    "pprint(f'Accuracy: {accuracy_score(y_test,y_pred)}')\n"
   ]
  },
  {
   "cell_type": "code",
   "execution_count": 62,
   "metadata": {},
   "outputs": [
    {
     "data": {
      "text/plain": [
       "array([[28486, 17780],\n",
       "       [23900, 22585]], dtype=int64)"
      ]
     },
     "execution_count": 62,
     "metadata": {},
     "output_type": "execute_result"
    }
   ],
   "source": [
    "confusion_matrix(y_test,y_pred)"
   ]
  },
  {
   "cell_type": "code",
   "execution_count": null,
   "metadata": {},
   "outputs": [],
   "source": [
    "depth = []\n",
    "for i in range(5,9):\n",
    "    dtc = DecisionTreeClassifier(max_depth=i)\n",
    "    abc = AdaBoostClassifier(n_estimators=50, estimator=dtc, learning_rate=1)\n",
    "    model = abc.fit(X_train, y_train)\n",
    "    y_pred = model.predict(X_test)\n",
    "    # Perform 7-fold cross validation \n",
    "    scores = cross_val_score(estimator=abc, X=X_train, y=y_train, cv=5, n_jobs=4)\n",
    "    depth.append((i,scores.mean()))\n",
    "pprint(depth)\n"
   ]
  },
  {
   "cell_type": "code",
   "execution_count": 64,
   "metadata": {},
   "outputs": [
    {
     "data": {
      "text/plain": [
       "array([[36940,  9326],\n",
       "       [18623, 27862]], dtype=int64)"
      ]
     },
     "execution_count": 64,
     "metadata": {},
     "output_type": "execute_result"
    }
   ],
   "source": [
    "dtc = DecisionTreeClassifier(max_depth=6)\n",
    "abc = AdaBoostClassifier(n_estimators=50, estimator=dtc, learning_rate=1)\n",
    "abc.fit(X_train, y_train)\n",
    "y_pred = abc.predict(X_test)\n",
    "confusion_matrix(y_test,y_pred)"
   ]
  },
  {
   "cell_type": "code",
   "execution_count": 73,
   "metadata": {},
   "outputs": [
    {
     "name": "stdout",
     "output_type": "stream",
     "text": [
      "'score on test: 0.5955299673318886'\n",
      "'score on train: 0.5963797941245441'\n"
     ]
    },
    {
     "data": {
      "text/plain": [
       "array([[23022,  7780],\n",
       "       [17230, 13802]], dtype=int64)"
      ]
     },
     "execution_count": 73,
     "metadata": {},
     "output_type": "execute_result"
    }
   ],
   "source": [
    "mnb = MultinomialNB().fit(X_train, y_train)\n",
    "pprint(f'score on test: {str(mnb.score(X_test, y_test))}')\n",
    "pprint(f'score on train: {str(mnb.score(X_train, y_train))}')\n",
    "y_pred = mnb.predict(X_test)\n",
    "confusion_matrix(y_test,y_pred)"
   ]
  },
  {
   "cell_type": "code",
   "execution_count": 72,
   "metadata": {},
   "outputs": [
    {
     "name": "stdout",
     "output_type": "stream",
     "text": [
      "'Accuracy: 0.5850988129508038'\n"
     ]
    },
    {
     "data": {
      "text/plain": [
       "array([[21808,  8994],\n",
       "       [16661, 14371]], dtype=int64)"
      ]
     },
     "execution_count": 72,
     "metadata": {},
     "output_type": "execute_result"
    }
   ],
   "source": [
    "lda = LinearDiscriminantAnalysis()\n",
    "lda.fit(X_train, y_train)\n",
    "y_pred = lda.predict(X_test)\n",
    "pprint(f'Accuracy: {accuracy_score(y_test,y_pred)}')\n",
    "confusion_matrix(y_test,y_pred)"
   ]
  },
  {
   "cell_type": "code",
   "execution_count": 65,
   "metadata": {},
   "outputs": [],
   "source": [
    "ss = StandardScaler()\n",
    "scaX = pd.DataFrame(ss.fit_transform(X), columns = X.columns)\n",
    "scaX_train, scaX_test, y_train, y_test = train_test_split(scaX, y, test_size=0.2, random_state=42)"
   ]
  },
  {
   "cell_type": "code",
   "execution_count": 67,
   "metadata": {},
   "outputs": [
    {
     "name": "stdout",
     "output_type": "stream",
     "text": [
      "0.5103017757220947\n"
     ]
    },
    {
     "name": "stderr",
     "output_type": "stream",
     "text": [
      "c:\\Users\\pukeboy71\\Documents\\ProyectoIndividual2\\venv\\Lib\\site-packages\\sklearn\\svm\\_base.py:1244: ConvergenceWarning: Liblinear failed to converge, increase the number of iterations.\n",
      "  warnings.warn(\n"
     ]
    }
   ],
   "source": [
    "\n",
    "svc = LinearSVC(C=1, random_state=42)\n",
    "svc.fit(scaX_train, y_train)\n",
    "pprint(svc.score(scaX_test, y_test))"
   ]
  },
  {
   "cell_type": "code",
   "execution_count": 68,
   "metadata": {},
   "outputs": [
    {
     "data": {
      "text/plain": [
       "array([[21805,  8997],\n",
       "       [16658, 14374]], dtype=int64)"
      ]
     },
     "execution_count": 68,
     "metadata": {},
     "output_type": "execute_result"
    }
   ],
   "source": [
    "y_pred = svc.predict(scaX_test)\n",
    "confusion_matrix(y_test,y_pred)"
   ]
  },
  {
   "cell_type": "code",
   "execution_count": null,
   "metadata": {},
   "outputs": [],
   "source": [
    "clf = StackingClassifier()\n",
    "dtc = DecisionTreeClassifier(max_depth=6)\n",
    "estimators = [\n",
    "    'dtc', abc = AdaBoostClassifier(n_estimators=50, estimator=dtc, learning_rate=1),\n",
    "    'mnb', mnb\n",
    "    ''\n",
    "]"
   ]
  }
 ],
 "metadata": {
  "kernelspec": {
   "display_name": "venv",
   "language": "python",
   "name": "python3"
  },
  "language_info": {
   "codemirror_mode": {
    "name": "ipython",
    "version": 3
   },
   "file_extension": ".py",
   "mimetype": "text/x-python",
   "name": "python",
   "nbconvert_exporter": "python",
   "pygments_lexer": "ipython3",
   "version": "3.11.0"
  },
  "orig_nbformat": 4,
  "vscode": {
   "interpreter": {
    "hash": "176b22cd430f7d720d0d7e86f260c586d147709cd5de107f9c269eacc008d464"
   }
  }
 },
 "nbformat": 4,
 "nbformat_minor": 2
}
